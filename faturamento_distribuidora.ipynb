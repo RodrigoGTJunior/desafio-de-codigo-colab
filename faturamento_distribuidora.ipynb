{
  "nbformat": 4,
  "nbformat_minor": 0,
  "metadata": {
    "colab": {
      "provenance": [],
      "authorship_tag": "ABX9TyOANzYPuEADIay+5apriXuQ",
      "include_colab_link": true
    },
    "kernelspec": {
      "name": "python3",
      "display_name": "Python 3"
    },
    "language_info": {
      "name": "python"
    }
  },
  "cells": [
    {
      "cell_type": "markdown",
      "metadata": {
        "id": "view-in-github",
        "colab_type": "text"
      },
      "source": [
        "<a href=\"https://colab.research.google.com/github/RodrigoGTJunior/desafio-de-codigo/blob/main/faturamento_distribuidora.ipynb\" target=\"_parent\"><img src=\"https://colab.research.google.com/assets/colab-badge.svg\" alt=\"Open In Colab\"/></a>"
      ]
    },
    {
      "cell_type": "code",
      "source": [
        "import json\n",
        "import pandas as pd"
      ],
      "metadata": {
        "id": "3Oc_jzJlfdC1"
      },
      "execution_count": null,
      "outputs": []
    },
    {
      "cell_type": "code",
      "execution_count": null,
      "metadata": {
        "id": "X1TCbs3gdS_0"
      },
      "outputs": [],
      "source": [
        "with open(\"dados.json\", encoding='utf-8') as meu_json:\n",
        "  dados = json.load(meu_json)"
      ]
    },
    {
      "cell_type": "code",
      "source": [
        "print(dados)"
      ],
      "metadata": {
        "id": "3eFd94EmwkAR"
      },
      "execution_count": null,
      "outputs": []
    },
    {
      "cell_type": "code",
      "source": [
        "faturamento_total = []\n",
        "for i in dados:\n",
        "  if (i[\"valor\"] !=0):\n",
        "    valor_faturamento = (i[\"valor\"])\n",
        "    faturamento_total.append(valor_faturamento)\n"
      ],
      "metadata": {
        "id": "z0NrMXPPnm__"
      },
      "execution_count": null,
      "outputs": []
    },
    {
      "cell_type": "markdown",
      "source": [
        "Valida os valores de faturamento diferentes de 0 presentes dentro do arquivo json e os coloca em uma nova lista."
      ],
      "metadata": {
        "id": "6_kM2IsaNR12"
      }
    },
    {
      "cell_type": "code",
      "source": [
        "maior_faturamento = round(max(faturamento_total),2)\n",
        "menor_faturamento = round(min(faturamento_total),2)\n",
        "dias_faturados = len(faturamento_total)\n",
        "media_mensal = round(sum(faturamento_total) / dias_faturados ,2)\n",
        "dias_acima_media = []\n",
        "\n",
        "contador = 0\n",
        "for x in faturamento_total:\n",
        "  if faturamento_total[contador] > media_mensal:\n",
        "    dias_acima_media.append(faturamento_total[contador])\n",
        "  contador+=1\n",
        "\n",
        "\n",
        "print(\"O faturamento de maior valor em um único dia foi de\",maior_faturamento,\".\")\n",
        "print(\"O faturamento de menor valor em um único dia foi de\",menor_faturamento,\".\")\n",
        "print(\"A média mensal do faturamento desse mês foi de\",media_mensal,)\n",
        "print(\"Nesse mês tivemos\",len(dias_acima_media),\"dias com faturamento maior que a média mensal\")"
      ],
      "metadata": {
        "colab": {
          "base_uri": "https://localhost:8080/"
        },
        "id": "9JAHXpqH4QnD",
        "outputId": "691e0d75-9841-45de-cd1f-24590c38a1cd"
      },
      "execution_count": null,
      "outputs": [
        {
          "output_type": "stream",
          "name": "stdout",
          "text": [
            "O faturamento de maior valor em um único dia foi de 48924.24 .\n",
            "O faturamento de menor valor em um único dia foi de 373.78 .\n",
            "A média mensal do faturamento desse mês foi de 20865.37\n",
            "Nesse mês tivemos 10 dias com faturamento maior que a média mensal\n"
          ]
        }
      ]
    },
    {
      "cell_type": "markdown",
      "source": [
        "Checa a nova lista criada com os valores diferentes de 0 para encontrar o maior e menor valor de faturamento. Em seguida faz o cálculo da média de faturamento mensal somando todos os valores da lista e dividindo pela quantidade de linhas que a mesma possui. Por fim faz uma validação comparando o valor da média mensal com os valores da lista de faturamento e coloca os valores maiores que a média em uma nova lista."
      ],
      "metadata": {
        "id": "hFt9Y5qXNToE"
      }
    }
  ]
}